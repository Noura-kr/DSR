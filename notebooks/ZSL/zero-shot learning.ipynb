{
 "cells": [
  {
   "cell_type": "markdown",
   "metadata": {},
   "source": [
    "# Zero-shot image classification "
   ]
  },
  {
   "cell_type": "markdown",
   "metadata": {},
   "source": [
    "1. Load data of Animal with attributes from https://www.mpi-inf.mpg.de/departments/computer-vision-and-multimodal-computing/research/zero-shot-learning/zero-shot-learning-the-good-the-bad-and-the-ugly/\n",
    "2. Prepare data (three splits train, val, and test)\n",
    "3. Implement SJE train, predict, and evaluate\n",
    "\n",
    "[Akata, et al. CVPR2015]\n",
    "[Xian, et al. CVPR2017]"
   ]
  },
  {
   "cell_type": "code",
   "execution_count": 1,
   "metadata": {
    "collapsed": true
   },
   "outputs": [],
   "source": [
    "import scipy.io as spio\n",
    "\n",
    "\n",
    "image_info = spio.loadmat('Data/xlsa17/data/AWA2/res101.mat')\n",
    "class_info = spio.loadmat('Data/xlsa17/data/AWA2/att_splits.mat')"
   ]
  },
  {
   "cell_type": "code",
   "execution_count": null,
   "metadata": {
    "collapsed": true
   },
   "outputs": [],
   "source": [
    "# image_info['features'] # all image features\n",
    "# image_info['labels'] # all image labels\n",
    "\n",
    "# class_info['att'] # class embeddings\n",
    "# class_info['train_loc'] # seen class images (training)\n",
    "# class_info['val_loc'] # seen class images (val)\n",
    "# class_info['test_unseen_loc'] # unseen class images"
   ]
  },
  {
   "cell_type": "code",
   "execution_count": null,
   "metadata": {
    "collapsed": true
   },
   "outputs": [],
   "source": [
    "import scipy.io as spio\n",
    "import numpy as np\n",
    "import datetime\n",
    "import random\n",
    "from collections import Counter\n",
    "\n",
    "def l2_norm(x):\n",
    "    return x / (np.linalg.norm(x)+ 10e-6)\n",
    "\n",
    "image_info = spio.loadmat('Data/xlsa17/data/AWA2/res101.mat')\n",
    "class_info = spio.loadmat('Data/xlsa17/data/AWA2/att_splits.mat')"
   ]
  },
  {
   "cell_type": "code",
   "execution_count": 2,
   "metadata": {
    "collapsed": true
   },
   "outputs": [],
   "source": [
    "### Prepare data\n",
    "tr_labels, val_labels, test_labels = [], [], []\n",
    "# training data\n",
    "X, Y = [], []\n",
    "for idx in class_info['train_loc']:\n",
    "    X.append(l2_norm(image_info['features'].transpose()[idx[0]-1]))\n",
    "    Y.append(image_info['labels'][idx[0]-1][0]-1)\n",
    "    if not image_info['labels'][idx[0]-1][0]-1 in tr_labels:\n",
    "        tr_labels.append(image_info['labels'][idx[0]-1][0]-1)\n",
    "# val data\n",
    "val_X, val_Y = [], []\n",
    "for idx in class_info['val_loc']:\n",
    "    val_X.append(l2_norm(image_info['features'].transpose()[idx[0]-1]))\n",
    "    val_Y.append(image_info['labels'][idx[0]-1][0]-1)\n",
    "    if not image_info['labels'][idx[0]-1][0]-1 in val_labels:\n",
    "        val_labels.append(image_info['labels'][idx[0]-1][0]-1)\n",
    "# test data\n",
    "test_X, test_Y = [], []\n",
    "for idx in class_info['test_unseen_loc']:\n",
    "    test_X.append(l2_norm(image_info['features'].transpose()[idx[0]-1]))\n",
    "    test_Y.append(image_info['labels'][idx[0]-1][0]-1)\n",
    "    if not image_info['labels'][idx[0]-1][0]-1 in test_labels:\n",
    "        test_labels.append(image_info['labels'][idx[0]-1][0]-1)\n",
    "\n",
    "# get all classes embeddings\n",
    "class_embeddings = class_info['att'].transpose()\n",
    "# dims of image features and class embeddings\n",
    "x_dim, yEmb_dim = len(X[0]), len(class_embeddings[0])"
   ]
  },
  {
   "cell_type": "code",
   "execution_count": 15,
   "metadata": {},
   "outputs": [
    {
     "name": "stdout",
     "output_type": "stream",
     "text": [
      "training classes:\n",
      "antelope , buffalo , chihuahua , collie , cow , elephant , fox , german+shepherd , grizzly+bear , hippopotamus , humpback+whale , killer+whale , lion , mouse , otter , persian+cat , pig , polar+bear , rhinoceros , siamese+cat , skunk , spider+monkey , squirrel , tiger , weasel , wolf , zebra , \n",
      "validation classes:\n",
      "beaver , chimpanzee , dalmatian , deer , giant+panda , gorilla , hamster , leopard , mole , moose , ox , rabbit , raccoon , \n",
      "test classes:\n",
      "bat , blue+whale , bobcat , dolphin , giraffe , horse , rat , seal , sheep , walrus ,\n"
     ]
    }
   ],
   "source": [
    "# class split \n",
    "tr_classes, val_classes, test_classes= [], [], []\n",
    "print \"training classes:\"\n",
    "for idx in tr_labels:\n",
    "    tr_classes.append(class_info['allclasses_names'][idx][0][0])\n",
    "    print class_info['allclasses_names'][idx][0][0], ',',\n",
    "print \"\\nvalidation classes:\"\n",
    "for idx in val_labels:\n",
    "    val_classes.append(class_info['allclasses_names'][idx][0][0])\n",
    "    print class_info['allclasses_names'][idx][0][0], ',',\n",
    "print \"\\ntest classes:\"\n",
    "for idx in test_labels:\n",
    "    test_classes.append(class_info['allclasses_names'][idx][0][0])\n",
    "    print class_info['allclasses_names'][idx][0][0], ',',"
   ]
  },
  {
   "cell_type": "code",
   "execution_count": null,
   "metadata": {
    "collapsed": true
   },
   "outputs": [],
   "source": [
    "# initialize your weights matrix\n",
    "for e in epochs:\n",
    "    # shuffle your samples\n",
    "    for i in range(len(samples)):\n",
    "        x_i, y_true = X[i], Y[i]\n",
    "        score_true = # calculate score with true label \n",
    "        \n",
    "        max_score, max_y_tr = -1, -1\n",
    "        for y_tr in tr_labels: \n",
    "            score =  # calculate score with y_tr label\n",
    "            loss = Delta(y_tr,y_true) + score_true - score\n",
    "            if score > max_score:\n",
    "                # update max_score & max_y_tr\n",
    "        \n",
    "        if not max_index  == y_true : # violation!\n",
    "            W = W - learning_rate * X [phi(y_true) - phi(max_y_tr)]"
   ]
  },
  {
   "cell_type": "code",
   "execution_count": 4,
   "metadata": {
    "collapsed": true
   },
   "outputs": [],
   "source": [
    "def train(X,Y,LR,T,W=None):\n",
    "    \n",
    "    # total number of training samples\n",
    "    N = len(X)\n",
    "    \n",
    "    # initialize the joint embedding matrix W: is x_dim x y_dim where x_dim is input embedding dimension and yEmb_dim is the output embedding dimension\n",
    "    # the initialization value is equal to 1 \n",
    "    if W is None:\n",
    "        W = np.ones((x_dim, yEmb_dim))\n",
    "    \n",
    "    # SGD train the weights with T iteration using LR\n",
    "    Indices= list(range(0,N))\n",
    "    for t in range(0,T):\n",
    "        \n",
    "        ep_start = datetime.datetime.now()\n",
    "        ep_loss = 0\n",
    "        random.shuffle(Indices)\n",
    "        for index in range(0,N):\n",
    "            n = Indices[index] # pick a random sample n\n",
    "            max_loss = 0 # max loaa\n",
    "            max_j = -1 # max_j keeps the index of the max rank\n",
    "\n",
    "            inputP= l2_norm(np.dot(np.transpose(X[n]),W)) # project input on joint embedding space\n",
    "            comp_true = np.dot(inputP,class_embeddings[Y[n]]) \n",
    "            \n",
    "            for j in tr_labels: # iterate over tr classes to find the one with the maximum rank\n",
    "                delta = 0 if Y[n] == j else 1 # 0-1 loss\n",
    "                comp = np.dot(inputP,class_embeddings[j]) # compatability between input projection and class_embeddings[j]\n",
    "                loss = delta + comp - comp_true\n",
    "                if loss > max_loss:\n",
    "                    max_loss = loss\n",
    "                    max_j = j\n",
    "            \n",
    "            ep_loss += max_loss\n",
    "            \n",
    "            # update weights if violation\n",
    "            if not (max_j == Y[n]):\n",
    "                tranX = np.array(X[n])[np.newaxis]\n",
    "                W = np.subtract(W, LR * np.dot(tranX.T,  np.array(class_embeddings[max_j])[np.newaxis]))\n",
    "                W = np.add(W, LR * np.dot(tranX.T,  np.array(class_embeddings[Y[n]])[np.newaxis]))\n",
    "                \n",
    "        val_acc, val_class_acc = evaluate(val_X, val_Y,val_labels,W)\n",
    "        ep_end = datetime.datetime.now()\n",
    "        print \"Epoch {}/{}\".format(t,T)\n",
    "        print \"{}s training loss {} validation accuracy {} class accuracy {}\".format(ep_end-ep_start,ep_loss/N,val_acc,val_class_acc)\n",
    "    return W"
   ]
  },
  {
   "cell_type": "code",
   "execution_count": null,
   "metadata": {
    "collapsed": true
   },
   "outputs": [],
   "source": [
    "def predict(x,test_class_indices,W):\n",
    "    max_comp = -1\n",
    "    max_i = -1\n",
    "    inputP = l2_norm(np.dot(np.transpose(x),W)) # project input on joint embedding space\n",
    "        \n",
    "    for i in test_class_indices: \n",
    "        comp = np.dot(inputP,class_embeddings[i])\n",
    "        if comp > max_comp:\n",
    "            max_comp = comp\n",
    "            max_i = i\n",
    "    return max_i"
   ]
  },
  {
   "cell_type": "code",
   "execution_count": null,
   "metadata": {
    "collapsed": true
   },
   "outputs": [],
   "source": [
    "def evaluate(X,Y,test_class_indices,W):\n",
    "    correct_pred = 0\n",
    "    class_correct_pred = {t:0 for t in test_class_indices}\n",
    "    for n in range(len(X)):\n",
    "        pred_label = predict(X[n],test_class_indices,W)\n",
    "        if pred_label == Y[n]:\n",
    "            correct_pred += 1\n",
    "            class_correct_pred[Y[n]] +=1\n",
    "    class_counts = Counter(Y)\n",
    "    acc = float(correct_pred) / len(X)\n",
    "    class_acc = np.mean([float(class_correct_pred[k])/class_counts[k] for k in class_counts.keys() ]) \n",
    "    return acc, class_acc"
   ]
  },
  {
   "cell_type": "code",
   "execution_count": 10,
   "metadata": {
    "collapsed": true
   },
   "outputs": [],
   "source": [
    "import matplotlib.pyplot as plt\n",
    "\n",
    "def parse_log_file(pfile):\n",
    "    f= open(pfile).readlines()\n",
    "    lines = [i.strip() for i in f]\n",
    "    log= {k:[] for k in ['validation accuracy','class accuracy','loss']}\n",
    "    for l in lines:\n",
    "        if 'loss' in l:\n",
    "            for k in log.keys():\n",
    "                log[k].append(float(l.split(k+' ')[1].split(' ')[0]))\n",
    "    return log \n",
    "\n",
    "def plot_loss_acc(pfile):\n",
    "    history = parse_log_file(pfile)\n",
    "    plt.plot(history['loss'])\n",
    "    plt.title('model loss')\n",
    "    plt.ylabel('loss')\n",
    "    plt.xlabel('epoch')\n",
    "    plt.legend(['train'], loc='upper left')\n",
    "    plt.show()\n",
    "    plt.plot(history['validation accuracy'])\n",
    "    plt.plot(history['class accuracy'])\n",
    "    plt.title('model acc')\n",
    "    plt.ylabel('acc')\n",
    "    plt.xlabel('epoch')\n",
    "    plt.legend(['val_acc', 'val_class_acc'], loc='upper left')\n",
    "    plt.show()"
   ]
  },
  {
   "cell_type": "code",
   "execution_count": 5,
   "metadata": {
    "scrolled": true
   },
   "outputs": [
    {
     "name": "stdout",
     "output_type": "stream",
     "text": [
      "Epoch 0/50\n",
      "0:01:22.910288s training loss 0.898996540245 validation accuracy 0.158959852029 class accuracy 0.139098925673\n",
      "Epoch 1/50\n",
      "0:01:21.303714s training loss 0.886730972881 validation accuracy 0.226852355565 class accuracy 0.202837203075\n",
      "Epoch 2/50\n",
      "0:01:21.508663s training loss 0.870513019359 validation accuracy 0.304210640844 class accuracy 0.282379118712\n",
      "Epoch 3/50\n",
      "0:01:21.739325s training loss 0.852204324311 validation accuracy 0.35360678925 class accuracy 0.357437575613\n",
      "Epoch 4/50\n",
      "0:01:23.551731s training loss 0.834893717013 validation accuracy 0.394842780981 class accuracy 0.41208837704\n",
      "Epoch 5/50\n",
      "0:01:23.360776s training loss 0.817994516528 validation accuracy 0.447067783701 class accuracy 0.4624822674\n",
      "Epoch 6/50\n",
      "0:01:22.833895s training loss 0.801626994786 validation accuracy 0.495484713306 class accuracy 0.508410288671\n",
      "Epoch 7/50\n",
      "0:01:25.891981s training loss 0.785718332586 validation accuracy 0.516157110217 class accuracy 0.525815072581\n",
      "Epoch 8/50\n",
      "0:01:27.195496s training loss 0.770773620057 validation accuracy 0.549450549451 class accuracy 0.557582536557\n",
      "Epoch 9/50\n",
      "0:01:24.849302s training loss 0.755829539449 validation accuracy 0.570666956806 class accuracy 0.577076866067\n",
      "Epoch 10/50\n",
      "0:01:24.279463s training loss 0.741677555554 validation accuracy 0.582852790774 class accuracy 0.583889367886\n",
      "Epoch 11/50\n",
      "0:01:22.792288s training loss 0.728621875972 validation accuracy 0.592862582962 class accuracy 0.589166361109\n",
      "Epoch 12/50\n",
      "0:01:23.959528s training loss 0.715811871608 validation accuracy 0.599934718747 class accuracy 0.590564393505\n",
      "Epoch 13/50\n",
      "0:01:23.709454s training loss 0.703330962157 validation accuracy 0.605266021108 class accuracy 0.594748223978\n",
      "Epoch 14/50\n",
      "0:01:23.373138s training loss 0.691935302533 validation accuracy 0.610379719291 class accuracy 0.59929722381\n",
      "Epoch 15/50\n",
      "0:01:24.451711s training loss 0.680416486288 validation accuracy 0.612773365249 class accuracy 0.59996093738\n",
      "Epoch 16/50\n",
      "0:01:23.071912s training loss 0.67068092524 validation accuracy 0.615167011207 class accuracy 0.59886762007\n",
      "Epoch 17/50\n",
      "0:01:23.028948s training loss 0.660547948988 validation accuracy 0.618431073877 class accuracy 0.600385534444\n",
      "Epoch 18/50\n",
      "0:01:22.658402s training loss 0.651263907677 validation accuracy 0.622130344903 class accuracy 0.603460155642\n",
      "Epoch 19/50\n",
      "0:01:24.273835s training loss 0.6422708625 validation accuracy 0.622021542814 class accuracy 0.603684184551\n",
      "Epoch 20/50\n",
      "0:01:25.311500s training loss 0.634475956817 validation accuracy 0.627026438908 class accuracy 0.609035786383\n",
      "Epoch 21/50\n",
      "0:01:25.082482s training loss 0.625856739527 validation accuracy 0.630399303667 class accuracy 0.609679983552\n",
      "Epoch 22/50\n",
      "0:01:25.872799s training loss 0.618902122031 validation accuracy 0.628332063976 class accuracy 0.607161020074\n",
      "Epoch 23/50\n",
      "0:01:15.628883s training loss 0.611791086109 validation accuracy 0.633010553803 class accuracy 0.612594781965\n",
      "Epoch 24/50\n",
      "0:01:15.407946s training loss 0.60522279908 validation accuracy 0.632357741269 class accuracy 0.611123138451\n",
      "Epoch 25/50\n",
      "0:01:15.077989s training loss 0.598737389215 validation accuracy 0.630399303667 class accuracy 0.60910360765\n",
      "Epoch 26/50\n",
      "0:01:24.806488s training loss 0.593142440833 validation accuracy 0.632140137091 class accuracy 0.610721171032\n",
      "Epoch 27/50\n",
      "0:01:26.600586s training loss 0.586378887543 validation accuracy 0.635186595583 class accuracy 0.612834966485\n",
      "Epoch 28/50\n",
      "0:01:20.023378s training loss 0.581504175542 validation accuracy 0.633663366337 class accuracy 0.610530456563\n",
      "Epoch 29/50\n",
      "0:01:26.020777s training loss 0.577248183031 validation accuracy 0.633772168426 class accuracy 0.611026601925\n",
      "Epoch 30/50\n",
      "0:01:21.093834s training loss 0.572056549172 validation accuracy 0.633228157981 class accuracy 0.610976165173\n",
      "Epoch 31/50\n",
      "0:01:23.633855s training loss 0.567626449679 validation accuracy 0.634098574693 class accuracy 0.612773993988\n",
      "Epoch 32/50\n",
      "0:01:33.563765s training loss 0.562802566371 validation accuracy 0.632901751714 class accuracy 0.611181737655\n",
      "Epoch 33/50\n",
      "0:01:22.517681s training loss 0.559799881554 validation accuracy 0.630508105756 class accuracy 0.607582866684\n",
      "Epoch 34/50\n",
      "0:01:22.285476s training loss 0.555182123747 validation accuracy 0.630181699489 class accuracy 0.606641104708\n",
      "Epoch 35/50\n",
      "0:01:16.943874s training loss 0.551791473513 validation accuracy 0.630181699489 class accuracy 0.606442886679\n",
      "Epoch 36/50\n",
      "0:01:15.592555s training loss 0.548240400291 validation accuracy 0.629637689044 class accuracy 0.605990562363\n",
      "Epoch 37/50\n",
      "0:01:21.538214s training loss 0.54499972581 validation accuracy 0.631922532913 class accuracy 0.609011531713\n",
      "Epoch 38/50\n",
      "0:01:14.255340s training loss 0.541532465856 validation accuracy 0.631052116201 class accuracy 0.607687139269\n",
      "Epoch 39/50\n",
      "0:01:13.448935s training loss 0.538630307071 validation accuracy 0.630399303667 class accuracy 0.606567914017\n",
      "Epoch 40/50\n",
      "0:01:13.514648s training loss 0.535852030048 validation accuracy 0.628658470243 class accuracy 0.605282025979\n",
      "Epoch 41/50\n",
      "0:01:13.166832s training loss 0.532800107518 validation accuracy 0.628005657709 class accuracy 0.604265826222\n",
      "Epoch 42/50\n",
      "0:01:13.493752s training loss 0.530743748272 validation accuracy 0.62680883473 class accuracy 0.603110781755\n",
      "Epoch 43/50\n",
      "0:01:13.240311s training loss 0.527850630739 validation accuracy 0.627570449353 class accuracy 0.604354311522\n",
      "Epoch 44/50\n",
      "0:01:13.229017s training loss 0.5257923393 validation accuracy 0.625938418018 class accuracy 0.602906764452\n",
      "Epoch 45/50\n",
      "0:01:12.912787s training loss 0.523279571766 validation accuracy 0.625938418018 class accuracy 0.603197761315\n",
      "Epoch 46/50\n",
      "0:01:13.123614s training loss 0.521262470622 validation accuracy 0.627570449353 class accuracy 0.604706146503\n",
      "Epoch 47/50\n",
      "0:01:13.429608s training loss 0.519116615709 validation accuracy 0.626047220107 class accuracy 0.602632994168\n",
      "Epoch 48/50\n",
      "0:01:13.463654s training loss 0.517109297308 validation accuracy 0.625503209662 class accuracy 0.602237438178\n",
      "Epoch 49/50\n",
      "0:01:13.494011s training loss 0.515275749908 validation accuracy 0.623327167882 class accuracy 0.599960917608\n",
      "training time 1:07:08.562259\n",
      "test accuracy (0.45216731960065715, 0.54671012078979264)\n"
     ]
    }
   ],
   "source": [
    "st = datetime.datetime.now()\n",
    "W = train(X,Y,0.1,50)\n",
    "end = datetime.datetime.now()\n",
    "duration = end - st\n",
    "print \"training time {}\".format(duration)\n",
    "print \"test accuracy {}\".format(evaluate(test_X,test_Y,test_labels,W))\n",
    "np.save('new_trained_w_50ep_0.1LR.npy',W)"
   ]
  },
  {
   "cell_type": "code",
   "execution_count": 6,
   "metadata": {
    "collapsed": true
   },
   "outputs": [],
   "source": [
    "# reported result is 67% acc\n",
    "# ~ around 1 hours training on CPU with ~ 55% test accuracy (random chance is 10%)\n"
   ]
  },
  {
   "cell_type": "code",
   "execution_count": 11,
   "metadata": {},
   "outputs": [
    {
     "data": {
      "image/png": "[encoded data removed]",
      "text/plain": [
       "<matplotlib.figure.Figure at 0x10d2fde50>"
      ]
     },
     "metadata": {},
     "output_type": "display_data"
    },
    {
     "data": {
      "image/png": "[encoded data removed]",
      "text/plain": [
       "<matplotlib.figure.Figure at 0x10e2edf50>"
      ]
     },
     "metadata": {},
     "output_type": "display_data"
    }
   ],
   "source": [
    "plot_loss_acc('sje log')"
   ]
  }
 ],
 "metadata": {
  "kernelspec": {
   "display_name": "Python 2",
   "language": "python",
   "name": "python2"
  },
  "language_info": {
   "codemirror_mode": {
    "name": "ipython",
    "version": 2
   },
   "file_extension": ".py",
   "mimetype": "text/x-python",
   "name": "python",
   "nbconvert_exporter": "python",
   "pygments_lexer": "ipython2",
   "version": "2.7.14"
  }
 },
 "nbformat": 4,
 "nbformat_minor": 2
}
